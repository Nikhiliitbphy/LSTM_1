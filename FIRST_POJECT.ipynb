{
 "cells": [
  {
   "cell_type": "code",
   "execution_count": 1,
   "id": "bd7d8265",
   "metadata": {},
   "outputs": [],
   "source": [
    "import numpy as np"
   ]
  },
  {
   "cell_type": "code",
   "execution_count": 12,
   "id": "042e0de2",
   "metadata": {},
   "outputs": [],
   "source": [
    "class Lstm:\n",
    "    def __init__(self,hidden_size,input_size):\n",
    "        mean = 0.5\n",
    "        std = 0.5\n",
    "        self.Wo = np.random.normal(mean,std,(hidden_size,input_size+hidden_size))\n",
    "        self.Wf = np.random.normal(mean,std,(hidden_size,input_size+hidden_size))\n",
    "        self.Wc = np.random.normal(mean,std,(hidden_size,input_size+hidden_size))\n",
    "        self.Wi = np.random.normal(mean,std,(hidden_size,input_size+hidden_size))\n",
    "        \n",
    "        self.ht =  np.random.normal(mean,std,(hidden_size,1))\n",
    "        self.bf = np.random.normal(mean,std,(hidden_size,1))\n",
    "        self.bi = np.random.normal(mean,std,(hidden_size,1))\n",
    "        self.bo = np.random.normal(mean,std,(hidden_size,1))\n",
    "        self.bc = np.random.normal(mean,std,(hidden_size,1))\n",
    "        self.Ct = np.random.normal(mean,std,(hidden_size,1))\n",
    "        self.it = None\n",
    "        self.ft = None\n",
    "        self.ot = None\n",
    "    \n",
    "    def sigmoid(self,w,v,b):\n",
    "        y = w@v + b\n",
    "        return 1/(1 + np.exp(-y))\n",
    "    \n",
    "    def forward_prop(self):\n",
    "        v = np.concatenate((self.ht,x))\n",
    "        self.ft = self.sigmoid(self.Wf,v,self.bf) \n",
    "        \n",
    "        self.it = self.sigmoid(self.Wi,v,self.bi)\n",
    "        self.Ct = np.tanh(self.c@v + self.bc)\n",
    "        \n",
    "        self.C = self.ft* self.C + self.Ct\n",
    "        \n",
    "        self.ot = self.sigmoid(self.Wo,v,self.bo)\n",
    "        self.ht = self.ot*np.tanh(self.C)        "
   ]
  },
  {
   "cell_type": "code",
   "execution_count": 13,
   "id": "2af9d90f",
   "metadata": {},
   "outputs": [],
   "source": [
    "lstm = Lstm(5,6)"
   ]
  },
  {
   "cell_type": "code",
   "execution_count": 18,
   "id": "49677f80",
   "metadata": {},
   "outputs": [],
   "source": [
    "x = np.array((1,1,1))\n",
    "y = np.array((2,2,2))"
   ]
  },
  {
   "cell_type": "code",
   "execution_count": 22,
   "id": "cca9c01a",
   "metadata": {},
   "outputs": [
    {
     "data": {
      "text/plain": [
       "array([2, 2, 2])"
      ]
     },
     "execution_count": 22,
     "metadata": {},
     "output_type": "execute_result"
    }
   ],
   "source": [
    "x*y"
   ]
  },
  {
   "cell_type": "code",
   "execution_count": null,
   "id": "338d1521",
   "metadata": {},
   "outputs": [],
   "source": []
  }
 ],
 "metadata": {
  "kernelspec": {
   "display_name": "Python 3 (ipykernel)",
   "language": "python",
   "name": "python3"
  },
  "language_info": {
   "codemirror_mode": {
    "name": "ipython",
    "version": 3
   },
   "file_extension": ".py",
   "mimetype": "text/x-python",
   "name": "python",
   "nbconvert_exporter": "python",
   "pygments_lexer": "ipython3",
   "version": "3.10.4"
  }
 },
 "nbformat": 4,
 "nbformat_minor": 5
}
